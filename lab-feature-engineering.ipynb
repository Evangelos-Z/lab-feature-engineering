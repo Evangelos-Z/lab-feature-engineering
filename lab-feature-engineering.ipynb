{
 "cells": [
  {
   "attachments": {},
   "cell_type": "markdown",
   "metadata": {},
   "source": [
    "0. Importing libraries/Defining dataframes"
   ]
  },
  {
   "cell_type": "code",
   "execution_count": 35,
   "metadata": {},
   "outputs": [],
   "source": [
    "import pandas as pd\n",
    "import numpy as np\n",
    "\n",
    "from sklearn.model_selection import train_test_split\n",
    "from xgboost import XGBRegressor\n",
    "from sklearn.metrics import mean_absolute_error, mean_squared_error, r2_score\n",
    "\n",
    "import warnings\n",
    "warnings.filterwarnings('ignore')"
   ]
  },
  {
   "cell_type": "code",
   "execution_count": 36,
   "metadata": {},
   "outputs": [],
   "source": [
    "# The datasets that will be used\n",
    "data = pd.read_csv(\"learningSet_ml.csv\", index_col=[0])\n",
    "numerical = pd.read_csv('numerical.csv', index_col=[0])"
   ]
  },
  {
   "cell_type": "code",
   "execution_count": 37,
   "metadata": {},
   "outputs": [],
   "source": [
    "# Column name standardisation\n",
    "# for learning set\n",
    "cols = [col_name.lower().replace(' ', '_') for col_name in data.columns]\n",
    "data.columns = cols\n",
    "# for numerical\n",
    "cols = [col_name.lower().replace(' ', '_') for col_name in numerical.columns]\n",
    "numerical.columns = cols"
   ]
  },
  {
   "attachments": {},
   "cell_type": "markdown",
   "metadata": {},
   "source": [
    "## Lab | Feature Engineering"
   ]
  },
  {
   "attachments": {},
   "cell_type": "markdown",
   "metadata": {},
   "source": [
    "#### 1. Checking for nulls in the numerical columns."
   ]
  },
  {
   "cell_type": "code",
   "execution_count": 38,
   "metadata": {},
   "outputs": [
    {
     "data": {
      "text/html": [
       "<div>\n",
       "<style scoped>\n",
       "    .dataframe tbody tr th:only-of-type {\n",
       "        vertical-align: middle;\n",
       "    }\n",
       "\n",
       "    .dataframe tbody tr th {\n",
       "        vertical-align: top;\n",
       "    }\n",
       "\n",
       "    .dataframe thead th {\n",
       "        text-align: right;\n",
       "    }\n",
       "</style>\n",
       "<table border=\"1\" class=\"dataframe\">\n",
       "  <thead>\n",
       "    <tr style=\"text-align: right;\">\n",
       "      <th></th>\n",
       "      <th>age</th>\n",
       "      <th>income</th>\n",
       "      <th>wealth1</th>\n",
       "      <th>hit</th>\n",
       "      <th>malemili</th>\n",
       "      <th>malevet</th>\n",
       "      <th>vietvets</th>\n",
       "      <th>wwiivets</th>\n",
       "      <th>localgov</th>\n",
       "      <th>stategov</th>\n",
       "      <th>...</th>\n",
       "      <th>cardgift</th>\n",
       "      <th>minramnt</th>\n",
       "      <th>maxramnt</th>\n",
       "      <th>lastgift</th>\n",
       "      <th>timelag</th>\n",
       "      <th>avggift</th>\n",
       "      <th>controln</th>\n",
       "      <th>hphone_d</th>\n",
       "      <th>rfa_2f</th>\n",
       "      <th>cluster2</th>\n",
       "    </tr>\n",
       "    <tr>\n",
       "      <th>TCODE</th>\n",
       "      <th></th>\n",
       "      <th></th>\n",
       "      <th></th>\n",
       "      <th></th>\n",
       "      <th></th>\n",
       "      <th></th>\n",
       "      <th></th>\n",
       "      <th></th>\n",
       "      <th></th>\n",
       "      <th></th>\n",
       "      <th></th>\n",
       "      <th></th>\n",
       "      <th></th>\n",
       "      <th></th>\n",
       "      <th></th>\n",
       "      <th></th>\n",
       "      <th></th>\n",
       "      <th></th>\n",
       "      <th></th>\n",
       "      <th></th>\n",
       "      <th></th>\n",
       "    </tr>\n",
       "  </thead>\n",
       "  <tbody>\n",
       "    <tr>\n",
       "      <th>0</th>\n",
       "      <td>60.000000</td>\n",
       "      <td>5</td>\n",
       "      <td>9</td>\n",
       "      <td>0</td>\n",
       "      <td>0</td>\n",
       "      <td>39</td>\n",
       "      <td>34</td>\n",
       "      <td>18</td>\n",
       "      <td>10</td>\n",
       "      <td>2</td>\n",
       "      <td>...</td>\n",
       "      <td>14</td>\n",
       "      <td>5.0</td>\n",
       "      <td>12.0</td>\n",
       "      <td>10.0</td>\n",
       "      <td>4</td>\n",
       "      <td>7.741935</td>\n",
       "      <td>95515</td>\n",
       "      <td>0</td>\n",
       "      <td>4</td>\n",
       "      <td>39</td>\n",
       "    </tr>\n",
       "    <tr>\n",
       "      <th>1</th>\n",
       "      <td>46.000000</td>\n",
       "      <td>6</td>\n",
       "      <td>9</td>\n",
       "      <td>16</td>\n",
       "      <td>0</td>\n",
       "      <td>15</td>\n",
       "      <td>55</td>\n",
       "      <td>11</td>\n",
       "      <td>6</td>\n",
       "      <td>2</td>\n",
       "      <td>...</td>\n",
       "      <td>1</td>\n",
       "      <td>10.0</td>\n",
       "      <td>25.0</td>\n",
       "      <td>25.0</td>\n",
       "      <td>18</td>\n",
       "      <td>15.666667</td>\n",
       "      <td>148535</td>\n",
       "      <td>0</td>\n",
       "      <td>2</td>\n",
       "      <td>1</td>\n",
       "    </tr>\n",
       "    <tr>\n",
       "      <th>1</th>\n",
       "      <td>61.611649</td>\n",
       "      <td>3</td>\n",
       "      <td>1</td>\n",
       "      <td>2</td>\n",
       "      <td>0</td>\n",
       "      <td>20</td>\n",
       "      <td>29</td>\n",
       "      <td>33</td>\n",
       "      <td>6</td>\n",
       "      <td>8</td>\n",
       "      <td>...</td>\n",
       "      <td>14</td>\n",
       "      <td>2.0</td>\n",
       "      <td>16.0</td>\n",
       "      <td>5.0</td>\n",
       "      <td>12</td>\n",
       "      <td>7.481481</td>\n",
       "      <td>15078</td>\n",
       "      <td>1</td>\n",
       "      <td>4</td>\n",
       "      <td>60</td>\n",
       "    </tr>\n",
       "    <tr>\n",
       "      <th>0</th>\n",
       "      <td>70.000000</td>\n",
       "      <td>1</td>\n",
       "      <td>4</td>\n",
       "      <td>2</td>\n",
       "      <td>0</td>\n",
       "      <td>23</td>\n",
       "      <td>14</td>\n",
       "      <td>31</td>\n",
       "      <td>3</td>\n",
       "      <td>0</td>\n",
       "      <td>...</td>\n",
       "      <td>7</td>\n",
       "      <td>2.0</td>\n",
       "      <td>11.0</td>\n",
       "      <td>10.0</td>\n",
       "      <td>9</td>\n",
       "      <td>6.812500</td>\n",
       "      <td>172556</td>\n",
       "      <td>1</td>\n",
       "      <td>4</td>\n",
       "      <td>41</td>\n",
       "    </tr>\n",
       "    <tr>\n",
       "      <th>0</th>\n",
       "      <td>78.000000</td>\n",
       "      <td>3</td>\n",
       "      <td>2</td>\n",
       "      <td>60</td>\n",
       "      <td>1</td>\n",
       "      <td>28</td>\n",
       "      <td>9</td>\n",
       "      <td>53</td>\n",
       "      <td>26</td>\n",
       "      <td>3</td>\n",
       "      <td>...</td>\n",
       "      <td>8</td>\n",
       "      <td>3.0</td>\n",
       "      <td>15.0</td>\n",
       "      <td>15.0</td>\n",
       "      <td>14</td>\n",
       "      <td>6.864865</td>\n",
       "      <td>7112</td>\n",
       "      <td>1</td>\n",
       "      <td>2</td>\n",
       "      <td>26</td>\n",
       "    </tr>\n",
       "    <tr>\n",
       "      <th>...</th>\n",
       "      <td>...</td>\n",
       "      <td>...</td>\n",
       "      <td>...</td>\n",
       "      <td>...</td>\n",
       "      <td>...</td>\n",
       "      <td>...</td>\n",
       "      <td>...</td>\n",
       "      <td>...</td>\n",
       "      <td>...</td>\n",
       "      <td>...</td>\n",
       "      <td>...</td>\n",
       "      <td>...</td>\n",
       "      <td>...</td>\n",
       "      <td>...</td>\n",
       "      <td>...</td>\n",
       "      <td>...</td>\n",
       "      <td>...</td>\n",
       "      <td>...</td>\n",
       "      <td>...</td>\n",
       "      <td>...</td>\n",
       "      <td>...</td>\n",
       "    </tr>\n",
       "    <tr>\n",
       "      <th>1</th>\n",
       "      <td>61.611649</td>\n",
       "      <td>5</td>\n",
       "      <td>9</td>\n",
       "      <td>0</td>\n",
       "      <td>14</td>\n",
       "      <td>36</td>\n",
       "      <td>47</td>\n",
       "      <td>11</td>\n",
       "      <td>7</td>\n",
       "      <td>8</td>\n",
       "      <td>...</td>\n",
       "      <td>0</td>\n",
       "      <td>25.0</td>\n",
       "      <td>25.0</td>\n",
       "      <td>25.0</td>\n",
       "      <td>9</td>\n",
       "      <td>25.000000</td>\n",
       "      <td>184568</td>\n",
       "      <td>0</td>\n",
       "      <td>1</td>\n",
       "      <td>12</td>\n",
       "    </tr>\n",
       "    <tr>\n",
       "      <th>1</th>\n",
       "      <td>48.000000</td>\n",
       "      <td>7</td>\n",
       "      <td>9</td>\n",
       "      <td>1</td>\n",
       "      <td>0</td>\n",
       "      <td>31</td>\n",
       "      <td>43</td>\n",
       "      <td>19</td>\n",
       "      <td>4</td>\n",
       "      <td>1</td>\n",
       "      <td>...</td>\n",
       "      <td>0</td>\n",
       "      <td>20.0</td>\n",
       "      <td>20.0</td>\n",
       "      <td>20.0</td>\n",
       "      <td>9</td>\n",
       "      <td>20.000000</td>\n",
       "      <td>122706</td>\n",
       "      <td>1</td>\n",
       "      <td>1</td>\n",
       "      <td>2</td>\n",
       "    </tr>\n",
       "    <tr>\n",
       "      <th>1</th>\n",
       "      <td>60.000000</td>\n",
       "      <td>5</td>\n",
       "      <td>9</td>\n",
       "      <td>0</td>\n",
       "      <td>0</td>\n",
       "      <td>18</td>\n",
       "      <td>46</td>\n",
       "      <td>20</td>\n",
       "      <td>7</td>\n",
       "      <td>23</td>\n",
       "      <td>...</td>\n",
       "      <td>4</td>\n",
       "      <td>3.0</td>\n",
       "      <td>10.0</td>\n",
       "      <td>10.0</td>\n",
       "      <td>3</td>\n",
       "      <td>8.285714</td>\n",
       "      <td>189641</td>\n",
       "      <td>1</td>\n",
       "      <td>3</td>\n",
       "      <td>34</td>\n",
       "    </tr>\n",
       "    <tr>\n",
       "      <th>0</th>\n",
       "      <td>58.000000</td>\n",
       "      <td>7</td>\n",
       "      <td>9</td>\n",
       "      <td>0</td>\n",
       "      <td>0</td>\n",
       "      <td>28</td>\n",
       "      <td>35</td>\n",
       "      <td>20</td>\n",
       "      <td>9</td>\n",
       "      <td>1</td>\n",
       "      <td>...</td>\n",
       "      <td>18</td>\n",
       "      <td>5.0</td>\n",
       "      <td>21.0</td>\n",
       "      <td>18.0</td>\n",
       "      <td>4</td>\n",
       "      <td>12.146341</td>\n",
       "      <td>4693</td>\n",
       "      <td>1</td>\n",
       "      <td>4</td>\n",
       "      <td>11</td>\n",
       "    </tr>\n",
       "    <tr>\n",
       "      <th>2</th>\n",
       "      <td>80.000000</td>\n",
       "      <td>5</td>\n",
       "      <td>8</td>\n",
       "      <td>3</td>\n",
       "      <td>1</td>\n",
       "      <td>33</td>\n",
       "      <td>22</td>\n",
       "      <td>27</td>\n",
       "      <td>8</td>\n",
       "      <td>10</td>\n",
       "      <td>...</td>\n",
       "      <td>11</td>\n",
       "      <td>10.0</td>\n",
       "      <td>201.0</td>\n",
       "      <td>100.0</td>\n",
       "      <td>6</td>\n",
       "      <td>96.794872</td>\n",
       "      <td>185114</td>\n",
       "      <td>1</td>\n",
       "      <td>1</td>\n",
       "      <td>12</td>\n",
       "    </tr>\n",
       "  </tbody>\n",
       "</table>\n",
       "<p>95412 rows × 314 columns</p>\n",
       "</div>"
      ],
      "text/plain": [
       "             age  income  wealth1  hit  malemili  malevet  vietvets  wwiivets  \\\n",
       "TCODE                                                                           \n",
       "0      60.000000       5        9    0         0       39        34        18   \n",
       "1      46.000000       6        9   16         0       15        55        11   \n",
       "1      61.611649       3        1    2         0       20        29        33   \n",
       "0      70.000000       1        4    2         0       23        14        31   \n",
       "0      78.000000       3        2   60         1       28         9        53   \n",
       "...          ...     ...      ...  ...       ...      ...       ...       ...   \n",
       "1      61.611649       5        9    0        14       36        47        11   \n",
       "1      48.000000       7        9    1         0       31        43        19   \n",
       "1      60.000000       5        9    0         0       18        46        20   \n",
       "0      58.000000       7        9    0         0       28        35        20   \n",
       "2      80.000000       5        8    3         1       33        22        27   \n",
       "\n",
       "       localgov  stategov  ...  cardgift  minramnt  maxramnt  lastgift  \\\n",
       "TCODE                      ...                                           \n",
       "0            10         2  ...        14       5.0      12.0      10.0   \n",
       "1             6         2  ...         1      10.0      25.0      25.0   \n",
       "1             6         8  ...        14       2.0      16.0       5.0   \n",
       "0             3         0  ...         7       2.0      11.0      10.0   \n",
       "0            26         3  ...         8       3.0      15.0      15.0   \n",
       "...         ...       ...  ...       ...       ...       ...       ...   \n",
       "1             7         8  ...         0      25.0      25.0      25.0   \n",
       "1             4         1  ...         0      20.0      20.0      20.0   \n",
       "1             7        23  ...         4       3.0      10.0      10.0   \n",
       "0             9         1  ...        18       5.0      21.0      18.0   \n",
       "2             8        10  ...        11      10.0     201.0     100.0   \n",
       "\n",
       "       timelag    avggift  controln  hphone_d  rfa_2f  cluster2  \n",
       "TCODE                                                            \n",
       "0            4   7.741935     95515         0       4        39  \n",
       "1           18  15.666667    148535         0       2         1  \n",
       "1           12   7.481481     15078         1       4        60  \n",
       "0            9   6.812500    172556         1       4        41  \n",
       "0           14   6.864865      7112         1       2        26  \n",
       "...        ...        ...       ...       ...     ...       ...  \n",
       "1            9  25.000000    184568         0       1        12  \n",
       "1            9  20.000000    122706         1       1         2  \n",
       "1            3   8.285714    189641         1       3        34  \n",
       "0            4  12.146341      4693         1       4        11  \n",
       "2            6  96.794872    185114         1       1        12  \n",
       "\n",
       "[95412 rows x 314 columns]"
      ]
     },
     "execution_count": 38,
     "metadata": {},
     "output_type": "execute_result"
    }
   ],
   "source": [
    "numerical"
   ]
  },
  {
   "cell_type": "code",
   "execution_count": 39,
   "metadata": {},
   "outputs": [
    {
     "name": "stdout",
     "output_type": "stream",
     "text": [
      "Number of NaNs in numerical columns:\n",
      "     column_names  null_percentage\n",
      "0            age              0.0\n",
      "206         eic4              0.0\n",
      "213        eic11              0.0\n",
      "212        eic10              0.0\n",
      "211         eic9              0.0\n",
      "..           ...              ...\n",
      "104        ethc2              0.0\n",
      "103        ethc1              0.0\n",
      "102        hhd12              0.0\n",
      "101        hhd11              0.0\n",
      "313     cluster2              0.0\n",
      "\n",
      "[314 rows x 2 columns]\n"
     ]
    }
   ],
   "source": [
    "# Checking for nulls\n",
    "nulls_num = numerical.isna().sum()*100/len(numerical)\n",
    "nulls_num_df = pd.DataFrame(nulls_num, columns = ['null_percentage']).reset_index().rename(columns = {'index' : 'column_names'})\n",
    "print(\"Number of NaNs in numerical columns:\"\"\\n\", nulls_num_df.sort_values(by = 'null_percentage', ascending = False))"
   ]
  },
  {
   "attachments": {},
   "cell_type": "markdown",
   "metadata": {},
   "source": [
    "#### *There are no nulls anywhere in the numerical subset*"
   ]
  },
  {
   "attachments": {},
   "cell_type": "markdown",
   "metadata": {},
   "source": [
    "#### 2. Cleaning columns GEOCODE2, WEALTH1, ADI, DMA,and MSA\n",
    "<br>*First a closer look will into each feature's characteristics is needed in order to make a decision on how to clean each column*"
   ]
  },
  {
   "attachments": {},
   "cell_type": "markdown",
   "metadata": {},
   "source": [
    "- geocode2"
   ]
  },
  {
   "cell_type": "code",
   "execution_count": 40,
   "metadata": {},
   "outputs": [
    {
     "data": {
      "text/plain": [
       "array(['C', 'A', 'D', 'B', ' ', nan], dtype=object)"
      ]
     },
     "execution_count": 40,
     "metadata": {},
     "output_type": "execute_result"
    }
   ],
   "source": [
    "data.geocode2.unique()"
   ]
  },
  {
   "cell_type": "code",
   "execution_count": 41,
   "metadata": {},
   "outputs": [
    {
     "data": {
      "text/plain": [
       "A      34484\n",
       "B      28505\n",
       "D      16580\n",
       "C      15524\n",
       "         187\n",
       "NaN      132\n",
       "Name: geocode2, dtype: int64"
      ]
     },
     "execution_count": 41,
     "metadata": {},
     "output_type": "execute_result"
    }
   ],
   "source": [
    "data.geocode2.value_counts(dropna = False)"
   ]
  },
  {
   "cell_type": "code",
   "execution_count": 42,
   "metadata": {},
   "outputs": [
    {
     "data": {
      "text/plain": [
       "count     95280\n",
       "unique        5\n",
       "top           A\n",
       "freq      34484\n",
       "Name: geocode2, dtype: object"
      ]
     },
     "execution_count": 42,
     "metadata": {},
     "output_type": "execute_result"
    }
   ],
   "source": [
    "data.geocode2.describe()"
   ]
  },
  {
   "attachments": {},
   "cell_type": "markdown",
   "metadata": {},
   "source": [
    "As shown above, geocode2 has 132 NaNs and 187 white spaces (a total of 319 data points to handle), 95,280 datapoints in total and the mode (A) frequency is 34,484. In this case, changing those 319 values to the mode value would have practically no effect on the variable's distribution. However, there are rather considerable imbalances in the data."
   ]
  },
  {
   "cell_type": "code",
   "execution_count": 43,
   "metadata": {},
   "outputs": [],
   "source": [
    "# Function to clean geocode2\n",
    "def clean_geocode2(x):\n",
    "    if x == \" \":\n",
    "        return \"A\"\n",
    "    else:\n",
    "        return x\n",
    "\n",
    "# Applying function to the column and replacing nans with the mode\n",
    "data['geocode2'] = data['geocode2'].apply(lambda x : clean_geocode2(x)).fillna(\"A\")"
   ]
  },
  {
   "cell_type": "code",
   "execution_count": 44,
   "metadata": {},
   "outputs": [
    {
     "data": {
      "text/plain": [
       "A    34803\n",
       "B    28505\n",
       "D    16580\n",
       "C    15524\n",
       "Name: geocode2, dtype: int64"
      ]
     },
     "execution_count": 44,
     "metadata": {},
     "output_type": "execute_result"
    }
   ],
   "source": [
    "data.geocode2.value_counts(dropna = False)"
   ]
  },
  {
   "attachments": {},
   "cell_type": "markdown",
   "metadata": {},
   "source": [
    "- wealth1"
   ]
  },
  {
   "cell_type": "code",
   "execution_count": 45,
   "metadata": {},
   "outputs": [
    {
     "data": {
      "text/plain": [
       "array([nan,  9.,  1.,  4.,  2.,  6.,  0.,  5.,  8.,  3.,  7.])"
      ]
     },
     "execution_count": 45,
     "metadata": {},
     "output_type": "execute_result"
    }
   ],
   "source": [
    "data.wealth1.unique()"
   ]
  },
  {
   "cell_type": "code",
   "execution_count": 46,
   "metadata": {},
   "outputs": [
    {
     "data": {
      "text/plain": [
       "NaN    44732\n",
       "9.0     7585\n",
       "8.0     6793\n",
       "7.0     6198\n",
       "6.0     5825\n",
       "5.0     5280\n",
       "4.0     4810\n",
       "3.0     4237\n",
       "2.0     4085\n",
       "1.0     3454\n",
       "0.0     2413\n",
       "Name: wealth1, dtype: int64"
      ]
     },
     "execution_count": 46,
     "metadata": {},
     "output_type": "execute_result"
    }
   ],
   "source": [
    "data.wealth1.value_counts(dropna = False)"
   ]
  },
  {
   "cell_type": "code",
   "execution_count": 47,
   "metadata": {},
   "outputs": [
    {
     "data": {
      "text/plain": [
       "count    50680.000000\n",
       "mean         5.345699\n",
       "std          2.742490\n",
       "min          0.000000\n",
       "25%          3.000000\n",
       "50%          6.000000\n",
       "75%          8.000000\n",
       "max          9.000000\n",
       "Name: wealth1, dtype: float64"
      ]
     },
     "execution_count": 47,
     "metadata": {},
     "output_type": "execute_result"
    }
   ],
   "source": [
    "data.wealth1.describe()"
   ]
  },
  {
   "attachments": {},
   "cell_type": "markdown",
   "metadata": {},
   "source": [
    "With 44,732 NaNs, wealth1 needs to be handled in a more comprehensive manner and thus the KNNImputer will be used to fill in the missing values."
   ]
  },
  {
   "cell_type": "code",
   "execution_count": 48,
   "metadata": {},
   "outputs": [],
   "source": [
    "# Attempting to predict the missing values with XGBoost\n",
    "# categorical features need to be turned to type 'category'\n",
    "wealth1_notna = data[data['wealth1'].notna()]\n",
    "for column in wealth1_notna.columns:\n",
    "    if wealth1_notna[column].dtype == object or column == 'wealth1':\n",
    "        wealth1_notna[column] = wealth1_notna[column].astype('category')"
   ]
  },
  {
   "cell_type": "code",
   "execution_count": 49,
   "metadata": {},
   "outputs": [],
   "source": [
    "# X-y and train/test splits\n",
    "X = wealth1_notna.drop('wealth1', axis = 1)\n",
    "y = wealth1_notna['wealth1']\n",
    "X_train, X_test, y_train, y_test = train_test_split(X, y, test_size=0.25, random_state=50)"
   ]
  },
  {
   "cell_type": "code",
   "execution_count": 50,
   "metadata": {},
   "outputs": [
    {
     "name": "stdout",
     "output_type": "stream",
     "text": [
      "[0]\tvalidation_0-rmse:5.03657\tvalidation_1-rmse:5.06843\n",
      "[20]\tvalidation_0-rmse:1.02224\tvalidation_1-rmse:1.32274\n",
      "[40]\tvalidation_0-rmse:0.67269\tvalidation_1-rmse:1.13326\n",
      "[60]\tvalidation_0-rmse:0.61914\tvalidation_1-rmse:1.12402\n",
      "[80]\tvalidation_0-rmse:0.58441\tvalidation_1-rmse:1.12235\n",
      "[100]\tvalidation_0-rmse:0.55521\tvalidation_1-rmse:1.12119\n",
      "[120]\tvalidation_0-rmse:0.52986\tvalidation_1-rmse:1.12065\n",
      "[140]\tvalidation_0-rmse:0.50720\tvalidation_1-rmse:1.12016\n",
      "[160]\tvalidation_0-rmse:0.48601\tvalidation_1-rmse:1.11983\n",
      "[180]\tvalidation_0-rmse:0.46764\tvalidation_1-rmse:1.11977\n",
      "[182]\tvalidation_0-rmse:0.46592\tvalidation_1-rmse:1.11978\n",
      "r2 = 0.84\n",
      "MSE = 1.25\n",
      "RMSE = 1.12\n",
      "MAE = 0.71\n"
     ]
    }
   ],
   "source": [
    "# Running the model\n",
    "model = XGBRegressor(n_estimators = 400, booster = 'gbtree', objective = 'reg:squarederror', eta = 0.1, subsample = 0.6, tree_method = 'hist', num_parallel_tree = 3, enable_categorical = True)\n",
    "\n",
    "eval_set = [(X_train, y_train), (X_test, y_test) ]\n",
    "model.fit(X_train, y_train, eval_metric = \"rmse\", eval_set = eval_set, verbose = 20, early_stopping_rounds=10)\n",
    "\n",
    "# Getting predictions\n",
    "y_pred = model.predict(X_test)\n",
    "# Getting scores\n",
    "r2 = r2_score(y_test, y_pred)\n",
    "MSE = mean_squared_error(y_test, y_pred)\n",
    "RMSE = mean_squared_error(y_test, y_pred, squared=False)\n",
    "MAE = mean_absolute_error(y_test, y_pred)\n",
    "\n",
    "print(\"r2 =\", round(r2,2))\n",
    "print(\"MSE =\", round(MSE,2))\n",
    "print(\"RMSE =\", round(RMSE,2))\n",
    "print(\"MAE =\", round(MAE,2))"
   ]
  },
  {
   "cell_type": "code",
   "execution_count": 51,
   "metadata": {},
   "outputs": [
    {
     "data": {
      "text/plain": [
       "9.0    0.149665\n",
       "8.0    0.134037\n",
       "7.0    0.122297\n",
       "6.0    0.114937\n",
       "5.0    0.104183\n",
       "4.0    0.094909\n",
       "3.0    0.083603\n",
       "2.0    0.080604\n",
       "1.0    0.068153\n",
       "0.0    0.047612\n",
       "Name: wealth1, dtype: float64"
      ]
     },
     "execution_count": 51,
     "metadata": {},
     "output_type": "execute_result"
    }
   ],
   "source": [
    "# Here, xgboost was initially used to predict the missing values. However, as the dataset has not been properly processed, hyperparameter tuning couldn't make up for the complexity and chaotic nature of this big dataset and the predictions made weren't precise enough.\n",
    "# A great alternative to that is the method used by @ieumann (Github), where the missing values were imputed proportionately to the existing values of the feature. This is the method that will be used here as well (code copied from the same source).\n",
    "proportions = data['wealth1'].value_counts(normalize=True)\n",
    "proportions"
   ]
  },
  {
   "cell_type": "code",
   "execution_count": 52,
   "metadata": {},
   "outputs": [
    {
     "data": {
      "text/plain": [
       "9.0    14276\n",
       "8.0    12829\n",
       "7.0    11630\n",
       "6.0    11018\n",
       "5.0     9933\n",
       "4.0     9023\n",
       "3.0     7857\n",
       "2.0     7683\n",
       "1.0     6603\n",
       "0.0     4560\n",
       "Name: wealth1, dtype: int64"
      ]
     },
     "execution_count": 52,
     "metadata": {},
     "output_type": "execute_result"
    }
   ],
   "source": [
    "counts = data['wealth1'].value_counts(normalize=True)\n",
    "data['wealth1'].fillna(pd.Series(np.random.choice(counts.index, size=len(data.index), p=counts)), inplace=True)\n",
    "data['wealth1'].value_counts()"
   ]
  },
  {
   "attachments": {},
   "cell_type": "markdown",
   "metadata": {},
   "source": [
    "- adi"
   ]
  },
  {
   "cell_type": "code",
   "execution_count": 53,
   "metadata": {},
   "outputs": [
    {
     "data": {
      "text/plain": [
       "dtype('float64')"
      ]
     },
     "execution_count": 53,
     "metadata": {},
     "output_type": "execute_result"
    }
   ],
   "source": [
    "data.adi.dtypes"
   ]
  },
  {
   "cell_type": "code",
   "execution_count": 54,
   "metadata": {},
   "outputs": [
    {
     "data": {
      "text/plain": [
       "132"
      ]
     },
     "execution_count": 54,
     "metadata": {},
     "output_type": "execute_result"
    }
   ],
   "source": [
    "data.adi.isna().sum()"
   ]
  },
  {
   "cell_type": "code",
   "execution_count": 55,
   "metadata": {},
   "outputs": [
    {
     "data": {
      "text/plain": [
       "0.0"
      ]
     },
     "execution_count": 55,
     "metadata": {},
     "output_type": "execute_result"
    }
   ],
   "source": [
    "data['adi'].loc[data['adi'] == \" \"].sum()"
   ]
  },
  {
   "cell_type": "code",
   "execution_count": 56,
   "metadata": {},
   "outputs": [
    {
     "data": {
      "text/plain": [
       "count    95280.000000\n",
       "mean       187.356402\n",
       "std        137.019184\n",
       "min          0.000000\n",
       "25%         65.000000\n",
       "50%        175.000000\n",
       "75%        279.000000\n",
       "max        651.000000\n",
       "Name: adi, dtype: float64"
      ]
     },
     "execution_count": 56,
     "metadata": {},
     "output_type": "execute_result"
    }
   ],
   "source": [
    "data.adi.describe()"
   ]
  },
  {
   "attachments": {},
   "cell_type": "markdown",
   "metadata": {},
   "source": [
    "The feature is continuous and bears 132 NaNs."
   ]
  },
  {
   "attachments": {},
   "cell_type": "markdown",
   "metadata": {},
   "source": [
    "- dma"
   ]
  },
  {
   "cell_type": "code",
   "execution_count": 57,
   "metadata": {},
   "outputs": [
    {
     "data": {
      "text/plain": [
       "206"
      ]
     },
     "execution_count": 57,
     "metadata": {},
     "output_type": "execute_result"
    }
   ],
   "source": [
    "data.dma.nunique()"
   ]
  },
  {
   "cell_type": "code",
   "execution_count": 58,
   "metadata": {},
   "outputs": [
    {
     "data": {
      "text/plain": [
       "132"
      ]
     },
     "execution_count": 58,
     "metadata": {},
     "output_type": "execute_result"
    }
   ],
   "source": [
    "data.dma.isna().sum()"
   ]
  },
  {
   "cell_type": "code",
   "execution_count": 59,
   "metadata": {},
   "outputs": [
    {
     "data": {
      "text/plain": [
       "0.0"
      ]
     },
     "execution_count": 59,
     "metadata": {},
     "output_type": "execute_result"
    }
   ],
   "source": [
    "data['dma'].loc[data['dma'] == \" \"].sum()"
   ]
  },
  {
   "cell_type": "code",
   "execution_count": 60,
   "metadata": {},
   "outputs": [
    {
     "data": {
      "text/plain": [
       "count    95280.000000\n",
       "mean       664.004072\n",
       "std        116.363600\n",
       "min          0.000000\n",
       "25%        561.000000\n",
       "50%        635.000000\n",
       "75%        801.000000\n",
       "max        881.000000\n",
       "Name: dma, dtype: float64"
      ]
     },
     "execution_count": 60,
     "metadata": {},
     "output_type": "execute_result"
    }
   ],
   "source": [
    "data.dma.describe()"
   ]
  },
  {
   "attachments": {},
   "cell_type": "markdown",
   "metadata": {},
   "source": [
    "As with adi, this feature has exactly 132 NaNs."
   ]
  },
  {
   "attachments": {},
   "cell_type": "markdown",
   "metadata": {},
   "source": [
    "- msa"
   ]
  },
  {
   "cell_type": "code",
   "execution_count": 61,
   "metadata": {},
   "outputs": [
    {
     "data": {
      "text/plain": [
       "count    95280.000000\n",
       "mean      3527.744102\n",
       "std       2863.904737\n",
       "min          0.000000\n",
       "25%        520.000000\n",
       "50%       3350.000000\n",
       "75%       5960.000000\n",
       "max       9360.000000\n",
       "Name: msa, dtype: float64"
      ]
     },
     "execution_count": 61,
     "metadata": {},
     "output_type": "execute_result"
    }
   ],
   "source": [
    "data.msa.describe()"
   ]
  },
  {
   "cell_type": "code",
   "execution_count": 62,
   "metadata": {},
   "outputs": [
    {
     "data": {
      "text/plain": [
       "132"
      ]
     },
     "execution_count": 62,
     "metadata": {},
     "output_type": "execute_result"
    }
   ],
   "source": [
    "data.msa.isna().sum()"
   ]
  },
  {
   "cell_type": "code",
   "execution_count": 63,
   "metadata": {},
   "outputs": [
    {
     "data": {
      "text/plain": [
       "0.0"
      ]
     },
     "execution_count": 63,
     "metadata": {},
     "output_type": "execute_result"
    }
   ],
   "source": [
    "data['msa'].loc[data['msa'] == \" \"].sum()"
   ]
  },
  {
   "attachments": {},
   "cell_type": "markdown",
   "metadata": {},
   "source": [
    "As with adi and msa, this feature has exactly 132 NaNs."
   ]
  },
  {
   "cell_type": "code",
   "execution_count": 64,
   "metadata": {},
   "outputs": [
    {
     "data": {
      "text/html": [
       "<div>\n",
       "<style scoped>\n",
       "    .dataframe tbody tr th:only-of-type {\n",
       "        vertical-align: middle;\n",
       "    }\n",
       "\n",
       "    .dataframe tbody tr th {\n",
       "        vertical-align: top;\n",
       "    }\n",
       "\n",
       "    .dataframe thead th {\n",
       "        text-align: right;\n",
       "    }\n",
       "</style>\n",
       "<table border=\"1\" class=\"dataframe\">\n",
       "  <thead>\n",
       "    <tr style=\"text-align: right;\">\n",
       "      <th></th>\n",
       "      <th>odatedw</th>\n",
       "      <th>osource</th>\n",
       "      <th>tcode</th>\n",
       "      <th>state</th>\n",
       "      <th>zip</th>\n",
       "      <th>mailcode</th>\n",
       "      <th>pvastate</th>\n",
       "      <th>dob</th>\n",
       "      <th>noexch</th>\n",
       "      <th>recinhse</th>\n",
       "      <th>...</th>\n",
       "      <th>target_d</th>\n",
       "      <th>hphone_d</th>\n",
       "      <th>rfa_2r</th>\n",
       "      <th>rfa_2f</th>\n",
       "      <th>rfa_2a</th>\n",
       "      <th>mdmaud_r</th>\n",
       "      <th>mdmaud_f</th>\n",
       "      <th>mdmaud_a</th>\n",
       "      <th>cluster2</th>\n",
       "      <th>geocode2</th>\n",
       "    </tr>\n",
       "  </thead>\n",
       "  <tbody>\n",
       "    <tr>\n",
       "      <th>577</th>\n",
       "      <td>8601</td>\n",
       "      <td>BHG</td>\n",
       "      <td>2</td>\n",
       "      <td>FL</td>\n",
       "      <td>33756</td>\n",
       "      <td></td>\n",
       "      <td></td>\n",
       "      <td>708</td>\n",
       "      <td>0</td>\n",
       "      <td></td>\n",
       "      <td>...</td>\n",
       "      <td>0.0</td>\n",
       "      <td>1</td>\n",
       "      <td>L</td>\n",
       "      <td>1</td>\n",
       "      <td>E</td>\n",
       "      <td>X</td>\n",
       "      <td>X</td>\n",
       "      <td>X</td>\n",
       "      <td>NaN</td>\n",
       "      <td>A</td>\n",
       "    </tr>\n",
       "    <tr>\n",
       "      <th>1119</th>\n",
       "      <td>8601</td>\n",
       "      <td>SPN</td>\n",
       "      <td>0</td>\n",
       "      <td>FL</td>\n",
       "      <td>34642</td>\n",
       "      <td></td>\n",
       "      <td></td>\n",
       "      <td>0</td>\n",
       "      <td>0</td>\n",
       "      <td></td>\n",
       "      <td>...</td>\n",
       "      <td>0.0</td>\n",
       "      <td>0</td>\n",
       "      <td>L</td>\n",
       "      <td>1</td>\n",
       "      <td>F</td>\n",
       "      <td>X</td>\n",
       "      <td>X</td>\n",
       "      <td>X</td>\n",
       "      <td>NaN</td>\n",
       "      <td>A</td>\n",
       "    </tr>\n",
       "    <tr>\n",
       "      <th>2250</th>\n",
       "      <td>8801</td>\n",
       "      <td>DNA</td>\n",
       "      <td>1</td>\n",
       "      <td>GA</td>\n",
       "      <td>31535</td>\n",
       "      <td></td>\n",
       "      <td></td>\n",
       "      <td>6201</td>\n",
       "      <td>0</td>\n",
       "      <td></td>\n",
       "      <td>...</td>\n",
       "      <td>0.0</td>\n",
       "      <td>1</td>\n",
       "      <td>L</td>\n",
       "      <td>1</td>\n",
       "      <td>G</td>\n",
       "      <td>X</td>\n",
       "      <td>X</td>\n",
       "      <td>X</td>\n",
       "      <td>NaN</td>\n",
       "      <td>A</td>\n",
       "    </tr>\n",
       "    <tr>\n",
       "      <th>3326</th>\n",
       "      <td>9501</td>\n",
       "      <td>SYN</td>\n",
       "      <td>0</td>\n",
       "      <td>GA</td>\n",
       "      <td>31217</td>\n",
       "      <td></td>\n",
       "      <td></td>\n",
       "      <td>0</td>\n",
       "      <td>0</td>\n",
       "      <td></td>\n",
       "      <td>...</td>\n",
       "      <td>0.0</td>\n",
       "      <td>0</td>\n",
       "      <td>L</td>\n",
       "      <td>3</td>\n",
       "      <td>G</td>\n",
       "      <td>X</td>\n",
       "      <td>X</td>\n",
       "      <td>X</td>\n",
       "      <td>NaN</td>\n",
       "      <td>A</td>\n",
       "    </tr>\n",
       "    <tr>\n",
       "      <th>5558</th>\n",
       "      <td>9001</td>\n",
       "      <td>SSS</td>\n",
       "      <td>1</td>\n",
       "      <td>NC</td>\n",
       "      <td>28625</td>\n",
       "      <td></td>\n",
       "      <td></td>\n",
       "      <td>2101</td>\n",
       "      <td>0</td>\n",
       "      <td></td>\n",
       "      <td>...</td>\n",
       "      <td>6.0</td>\n",
       "      <td>1</td>\n",
       "      <td>L</td>\n",
       "      <td>4</td>\n",
       "      <td>E</td>\n",
       "      <td>X</td>\n",
       "      <td>X</td>\n",
       "      <td>X</td>\n",
       "      <td>NaN</td>\n",
       "      <td>A</td>\n",
       "    </tr>\n",
       "    <tr>\n",
       "      <th>...</th>\n",
       "      <td>...</td>\n",
       "      <td>...</td>\n",
       "      <td>...</td>\n",
       "      <td>...</td>\n",
       "      <td>...</td>\n",
       "      <td>...</td>\n",
       "      <td>...</td>\n",
       "      <td>...</td>\n",
       "      <td>...</td>\n",
       "      <td>...</td>\n",
       "      <td>...</td>\n",
       "      <td>...</td>\n",
       "      <td>...</td>\n",
       "      <td>...</td>\n",
       "      <td>...</td>\n",
       "      <td>...</td>\n",
       "      <td>...</td>\n",
       "      <td>...</td>\n",
       "      <td>...</td>\n",
       "      <td>...</td>\n",
       "      <td>...</td>\n",
       "    </tr>\n",
       "    <tr>\n",
       "      <th>90627</th>\n",
       "      <td>9401</td>\n",
       "      <td>L01</td>\n",
       "      <td>1</td>\n",
       "      <td>WA</td>\n",
       "      <td>98375</td>\n",
       "      <td></td>\n",
       "      <td></td>\n",
       "      <td>4801</td>\n",
       "      <td>0</td>\n",
       "      <td></td>\n",
       "      <td>...</td>\n",
       "      <td>0.0</td>\n",
       "      <td>0</td>\n",
       "      <td>L</td>\n",
       "      <td>1</td>\n",
       "      <td>F</td>\n",
       "      <td>X</td>\n",
       "      <td>X</td>\n",
       "      <td>X</td>\n",
       "      <td>NaN</td>\n",
       "      <td>A</td>\n",
       "    </tr>\n",
       "    <tr>\n",
       "      <th>90993</th>\n",
       "      <td>9501</td>\n",
       "      <td>LIF</td>\n",
       "      <td>28</td>\n",
       "      <td>SC</td>\n",
       "      <td>59887-</td>\n",
       "      <td></td>\n",
       "      <td></td>\n",
       "      <td>2501</td>\n",
       "      <td>0</td>\n",
       "      <td></td>\n",
       "      <td>...</td>\n",
       "      <td>0.0</td>\n",
       "      <td>0</td>\n",
       "      <td>L</td>\n",
       "      <td>1</td>\n",
       "      <td>F</td>\n",
       "      <td>X</td>\n",
       "      <td>X</td>\n",
       "      <td>X</td>\n",
       "      <td>NaN</td>\n",
       "      <td>A</td>\n",
       "    </tr>\n",
       "    <tr>\n",
       "      <th>92870</th>\n",
       "      <td>8601</td>\n",
       "      <td>BHG</td>\n",
       "      <td>0</td>\n",
       "      <td>FL</td>\n",
       "      <td>34624</td>\n",
       "      <td></td>\n",
       "      <td></td>\n",
       "      <td>606</td>\n",
       "      <td>0</td>\n",
       "      <td></td>\n",
       "      <td>...</td>\n",
       "      <td>0.0</td>\n",
       "      <td>1</td>\n",
       "      <td>L</td>\n",
       "      <td>4</td>\n",
       "      <td>E</td>\n",
       "      <td>X</td>\n",
       "      <td>X</td>\n",
       "      <td>X</td>\n",
       "      <td>NaN</td>\n",
       "      <td>A</td>\n",
       "    </tr>\n",
       "    <tr>\n",
       "      <th>93624</th>\n",
       "      <td>9101</td>\n",
       "      <td>HAN</td>\n",
       "      <td>2</td>\n",
       "      <td>NC</td>\n",
       "      <td>28370</td>\n",
       "      <td></td>\n",
       "      <td></td>\n",
       "      <td>1101</td>\n",
       "      <td>0</td>\n",
       "      <td></td>\n",
       "      <td>...</td>\n",
       "      <td>0.0</td>\n",
       "      <td>0</td>\n",
       "      <td>L</td>\n",
       "      <td>1</td>\n",
       "      <td>F</td>\n",
       "      <td>X</td>\n",
       "      <td>X</td>\n",
       "      <td>X</td>\n",
       "      <td>NaN</td>\n",
       "      <td>A</td>\n",
       "    </tr>\n",
       "    <tr>\n",
       "      <th>94604</th>\n",
       "      <td>9001</td>\n",
       "      <td>APP</td>\n",
       "      <td>1</td>\n",
       "      <td>AZ</td>\n",
       "      <td>86446</td>\n",
       "      <td></td>\n",
       "      <td></td>\n",
       "      <td>0</td>\n",
       "      <td>0</td>\n",
       "      <td></td>\n",
       "      <td>...</td>\n",
       "      <td>0.0</td>\n",
       "      <td>0</td>\n",
       "      <td>L</td>\n",
       "      <td>2</td>\n",
       "      <td>G</td>\n",
       "      <td>X</td>\n",
       "      <td>X</td>\n",
       "      <td>X</td>\n",
       "      <td>NaN</td>\n",
       "      <td>A</td>\n",
       "    </tr>\n",
       "  </tbody>\n",
       "</table>\n",
       "<p>132 rows × 456 columns</p>\n",
       "</div>"
      ],
      "text/plain": [
       "       odatedw osource  tcode state     zip mailcode pvastate   dob noexch  \\\n",
       "577       8601     BHG      2    FL   33756                     708      0   \n",
       "1119      8601     SPN      0    FL   34642                       0      0   \n",
       "2250      8801     DNA      1    GA   31535                    6201      0   \n",
       "3326      9501     SYN      0    GA   31217                       0      0   \n",
       "5558      9001     SSS      1    NC   28625                    2101      0   \n",
       "...        ...     ...    ...   ...     ...      ...      ...   ...    ...   \n",
       "90627     9401     L01      1    WA   98375                    4801      0   \n",
       "90993     9501     LIF     28    SC  59887-                    2501      0   \n",
       "92870     8601     BHG      0    FL   34624                     606      0   \n",
       "93624     9101     HAN      2    NC   28370                    1101      0   \n",
       "94604     9001     APP      1    AZ   86446                       0      0   \n",
       "\n",
       "      recinhse  ... target_d hphone_d rfa_2r rfa_2f rfa_2a mdmaud_r  mdmaud_f  \\\n",
       "577             ...      0.0        1      L      1      E        X         X   \n",
       "1119            ...      0.0        0      L      1      F        X         X   \n",
       "2250            ...      0.0        1      L      1      G        X         X   \n",
       "3326            ...      0.0        0      L      3      G        X         X   \n",
       "5558            ...      6.0        1      L      4      E        X         X   \n",
       "...        ...  ...      ...      ...    ...    ...    ...      ...       ...   \n",
       "90627           ...      0.0        0      L      1      F        X         X   \n",
       "90993           ...      0.0        0      L      1      F        X         X   \n",
       "92870           ...      0.0        1      L      4      E        X         X   \n",
       "93624           ...      0.0        0      L      1      F        X         X   \n",
       "94604           ...      0.0        0      L      2      G        X         X   \n",
       "\n",
       "      mdmaud_a cluster2 geocode2  \n",
       "577          X      NaN        A  \n",
       "1119         X      NaN        A  \n",
       "2250         X      NaN        A  \n",
       "3326         X      NaN        A  \n",
       "5558         X      NaN        A  \n",
       "...        ...      ...      ...  \n",
       "90627        X      NaN        A  \n",
       "90993        X      NaN        A  \n",
       "92870        X      NaN        A  \n",
       "93624        X      NaN        A  \n",
       "94604        X      NaN        A  \n",
       "\n",
       "[132 rows x 456 columns]"
      ]
     },
     "execution_count": 64,
     "metadata": {},
     "output_type": "execute_result"
    }
   ],
   "source": [
    "na_rows = data[data['adi'].isna()]\n",
    "#pd.set_option('display.max_columns', 500)\n",
    "#pd.set_option('display.max_rows', 150)\n",
    "na_rows"
   ]
  },
  {
   "attachments": {},
   "cell_type": "markdown",
   "metadata": {},
   "source": [
    "adi, dma and msa all have the exact same number of nans and at the exact same locations. In this case and since the number of rows is practically inconsequential in the face of the vastness of data in the dataset, the rows with the nans will be dropped."
   ]
  },
  {
   "cell_type": "code",
   "execution_count": 65,
   "metadata": {},
   "outputs": [
    {
     "data": {
      "text/plain": [
       "(95280, 456)"
      ]
     },
     "execution_count": 65,
     "metadata": {},
     "output_type": "execute_result"
    }
   ],
   "source": [
    "data = data[data['adi'].notna()]    # and since all of the features in question have nans at the on the same rows, it is enought to use only one of their names to filter them out\n",
    "data.shape"
   ]
  },
  {
   "cell_type": "code",
   "execution_count": 66,
   "metadata": {},
   "outputs": [],
   "source": [
    "data.to_csv('learningSet_ml.csv')"
   ]
  }
 ],
 "metadata": {
  "kernelspec": {
   "display_name": "base",
   "language": "python",
   "name": "python3"
  },
  "language_info": {
   "codemirror_mode": {
    "name": "ipython",
    "version": 3
   },
   "file_extension": ".py",
   "mimetype": "text/x-python",
   "name": "python",
   "nbconvert_exporter": "python",
   "pygments_lexer": "ipython3",
   "version": "3.9.13"
  },
  "orig_nbformat": 4
 },
 "nbformat": 4,
 "nbformat_minor": 2
}
